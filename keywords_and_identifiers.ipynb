{
  "nbformat": 4,
  "nbformat_minor": 0,
  "metadata": {
    "colab": {
      "provenance": [],
      "include_colab_link": true
    },
    "kernelspec": {
      "name": "python3",
      "display_name": "Python 3"
    },
    "language_info": {
      "name": "python"
    }
  },
  "cells": [
    {
      "cell_type": "markdown",
      "metadata": {
        "id": "view-in-github",
        "colab_type": "text"
      },
      "source": [
        "<a href=\"https://colab.research.google.com/github/temur-shd/GlobalAIHub_PythonBootcamp/blob/main/keywords_and_identifiers.ipynb\" target=\"_parent\"><img src=\"https://colab.research.google.com/assets/colab-badge.svg\" alt=\"Open In Colab\"/></a>"
      ]
    },
    {
      "cell_type": "code",
      "execution_count": null,
      "metadata": {
        "colab": {
          "base_uri": "https://localhost:8080/"
        },
        "id": "enf2mi3aofnj",
        "outputId": "1d71ae31-2464-45aa-a1af-d5a90e886bf9"
      },
      "outputs": [
        {
          "output_type": "stream",
          "name": "stdout",
          "text": [
            "\n",
            "Welcome to Python 3.7's help utility!\n",
            "\n",
            "If this is your first time using Python, you should definitely check out\n",
            "the tutorial on the Internet at https://docs.python.org/3.7/tutorial/.\n",
            "\n",
            "Enter the name of any module, keyword, or topic to get help on writing\n",
            "Python programs and using Python modules.  To quit this help utility and\n",
            "return to the interpreter, just type \"quit\".\n",
            "\n",
            "To get a list of available modules, keywords, symbols, or topics, type\n",
            "\"modules\", \"keywords\", \"symbols\", or \"topics\".  Each module also comes\n",
            "with a one-line summary of what it does; to list the modules whose name\n",
            "or summary contain a given string such as \"spam\", type \"modules spam\".\n",
            "\n",
            "help> keywords\n",
            "\n",
            "Here is a list of the Python keywords.  Enter any keyword to get more help.\n",
            "\n",
            "False               class               from                or\n",
            "None                continue            global              pass\n",
            "True                def                 if                  raise\n",
            "and                 del                 import              return\n",
            "as                  elif                in                  try\n",
            "assert              else                is                  while\n",
            "async               except              lambda              with\n",
            "await               finally             nonlocal            yield\n",
            "break               for                 not                 \n",
            "\n",
            "\n",
            "You are now leaving help and returning to the Python interpreter.\n",
            "If you want to ask for help on a particular object directly from the\n",
            "interpreter, you can type \"help(object)\".  Executing \"help('string')\"\n",
            "has the same effect as typing a particular string at the help> prompt.\n"
          ]
        }
      ],
      "source": [
        "help()"
      ]
    },
    {
      "cell_type": "code",
      "source": [
        "\"\"\"Hatalar:\n",
        "1.Programcı Hataları (Error)\n",
        "2.Program Kusurları (Bug)\n",
        "3.İstisnalar (Exception)\"\"\"\n",
        "\n",
        "\"\"\"\n",
        "try:\n",
        "    hata verebileceğini bildiğimiz kodlar\n",
        "except HataAdı:\n",
        "    hata durumunda yapılacak işlem\n",
        "\"\"\"\n",
        "ilk_sayı    = input(\"ilk sayı: \")\n",
        "ikinci_sayı = input(\"ikinci sayı: \")\n",
        "\n",
        "try:\n",
        "    sayı1 = int(ilk_sayı)\n",
        "    sayı2 = int(ikinci_sayı)\n",
        "    print(sayı1, \"/\", sayı2, \"=\", sayı1 / sayı2)\n",
        "except ZeroDivisionError:\n",
        "    print(\"Bir sayıyı 0'a bölemezsiniz!\")\n",
        "except ValueError:\n",
        "    print(\"Lütfen sadece sayı girin!\")\n",
        "    \n",
        "except ValueError as hata:\n",
        "    print(hata)"
      ],
      "metadata": {
        "id": "hnpUdSkY7uDh"
      },
      "execution_count": null,
      "outputs": []
    },
    {
      "cell_type": "code",
      "source": [
        "# try---except---else\n",
        "try:\n",
        "    bölünen = int(input(\"bölünecek sayı: \"))\n",
        "    bölen = int(input(\"bölen sayı: \"))\n",
        "except ValueError:\n",
        "    print(\"Lütfen sadece sayı girin!\")\n",
        "else:\n",
        "    try:\n",
        "        print(bölünen/bölen)\n",
        "    except ZeroDivisionError:\n",
        "        print(\"Bir sayıyı 0'a bölemezsiniz!\")"
      ],
      "metadata": {
        "id": "jeZD_duu8ync"
      },
      "execution_count": null,
      "outputs": []
    },
    {
      "cell_type": "code",
      "source": [
        "\"\"\"\n",
        "try:\n",
        "    ...bir takım işler...\n",
        "except birHata:\n",
        "    ...hata alınınca yapılacak işlemler...\n",
        "finally:\n",
        "    ...hata olsa da olmasa da yapılması gerekenler...\n",
        "\"\"\""
      ],
      "metadata": {
        "id": "kV5Pq8AJ83nf"
      },
      "execution_count": null,
      "outputs": []
    },
    {
      "cell_type": "code",
      "source": [
        "#raise\n",
        "#kullanıcının yaptığı bir işlem normal şartlar altında hata vermeyecek olsa bile biz ona ‘Python tarzı’ bir hata mesajı göstermek isteyebiliriz. \n",
        "# Bu deyim yardımıyla duruma özgü hata mesajları üretebiliriz.\n",
        "\n",
        "bölünen = int(input(\"bölünecek sayı: \"))\n",
        "\n",
        "if bölünen == 23:\n",
        "    raise Exception(\"Bu programda 23 sayısını görmek istemiyorum!\")\n",
        "\n",
        "bölen = int(input(\"bölen sayı: \"))\n",
        "print(bölünen/bölen)\n",
        "\n",
        "#eğer kullanıcı 23 sayısını girerse, kullanıcıya bir hata mesajı gösterilip programdan çıkılacaktır. \n"
      ],
      "metadata": {
        "id": "rWtvrzPz9ArE"
      },
      "execution_count": null,
      "outputs": []
    },
    {
      "cell_type": "code",
      "source": [
        "#Bir benzetme olarak, return ve yield‘ı birbirinin ikizi gibi düşünebiliriz. return ‘döndür ve durdur’ anlamına gelirken , ‘yield‘ ‘döndür, ancak devam et’ anlamına gelir\n",
        "#return bir kez çalışır ve durur, ancak, yield planladığınız zamanlarda çalışır. return‘ü “bunlar arasından birini döndür” olarak yorumlayabiliriz. Diğer taraftan yield‘ı “bunların hepsini döndür” olarak yorumlayabiliriz."
      ],
      "metadata": {
        "id": "UuhyJaTJ5-Ao"
      },
      "execution_count": null,
      "outputs": []
    },
    {
      "cell_type": "code",
      "source": [
        "#async / await \n",
        "#Bir fonksiyonu/metodu async ile belirttiğinizde fonksiyona, asenkron yani ana akıştan bağımsız çalışabilecek bir fonksiyondur anlamı kazandırırsınız. \n",
        "#Genelde örnekte verdiğiniz gibi ağla ilgili işlemler yapan ya da giriş/çıkış işlemleri yapan fonksiyonlarda kullanılırlar.\n",
        "\n",
        "#async fonksiyon/metodlar kod akışını takip etmeyecekleri yani kod akışına paralel çalışabilecekleri için bu fonksiyonları/metodları await sözcüğü kullanarak bekletebilirsiniz.\n",
        "\n",
        "#Yani kısaca async / await asenkron(eşzamansız) kodlarla uğraşmak için thread’lerden çok daha iyi bir yol sunan modern bir kavramdır.\n",
        "\n",
        "#https://yapayakademi.com/pythonda-asenkron-programlama/ --> Örnek kod\n"
      ],
      "metadata": {
        "id": "6789foOk4HxO"
      },
      "execution_count": null,
      "outputs": []
    },
    {
      "cell_type": "code",
      "source": [
        "#assert ifadesi, bir koşul ifadesinin 'doğru' olduğunu denetler. Doğru olduğu takdirde, program devam eder.,\n",
        "#Doğru olmadığı takdirde, bir hata mesajı görüntülenir ve program durur. \n",
        "#assert ifadesinin koşulu sadece 'True' değer alabilir.\n",
        "#Assert deyimi “iddia etmek” anlamına geliyor. Yani bir iddiada bulunduğumuz zaman, o iddiamız doğruysa sorun yok ancak yanlışsa AssertionError isimli bir hata alırız. \n",
        "import sys\n",
        "\n",
        "def kontrol_et(x):\n",
        "    assert x >= 1, \"x, 1'dan küçük olamaz\"\n",
        "\n",
        "kontrol_et(1)"
      ],
      "metadata": {
        "id": "683fXUMR1_45"
      },
      "execution_count": 4,
      "outputs": []
    },
    {
      "cell_type": "code",
      "source": [
        "fav_number = 12\n",
        "if fav_number < 15:\n",
        "    print(\"My favourite number is smaller than 15\")"
      ],
      "metadata": {
        "colab": {
          "base_uri": "https://localhost:8080/"
        },
        "id": "QzoIJWe2owXj",
        "outputId": "f02329c2-55ca-4fc0-85bd-6fc8f63cbdfa"
      },
      "execution_count": null,
      "outputs": [
        {
          "output_type": "stream",
          "name": "stdout",
          "text": [
            "My favourite number is smaller than 15\n"
          ]
        }
      ]
    }
  ]
}